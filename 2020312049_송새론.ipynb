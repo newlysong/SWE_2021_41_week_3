{
  "nbformat": 4,
  "nbformat_minor": 0,
  "metadata": {
    "colab": {
      "provenance": []
    },
    "kernelspec": {
      "name": "python3",
      "display_name": "Python 3"
    },
    "language_info": {
      "name": "python"
    }
  },
  "cells": [
    {
      "cell_type": "markdown",
      "source": [
        "## Task\n",
        "- Complete **isHappy** function following the description below\n",
        "\n",
        "### Happy Number\n",
        "Write an algorithm to determine if a number **n** is happy.\n",
        "\n",
        "A **happy number** is a number defined by the following process:\n",
        "\n",
        "* Starting with any positive integer, replace the number by the sum of the squares of its digits.\n",
        "* Repeat the process until the number equals 1 (where it will stay), or it **loops endlessly in a cycle** which does not include 1.\n",
        "* Those numbers for which this process **ends in 1** are happy.\n",
        "\n",
        "Return **true** if n is a happy number, and **false** if not.\n",
        "\n",
        "Constraints:\n",
        "1 <= n <= $2^{31}$ - 1"
      ],
      "metadata": {
        "id": "TV3Socqg8BVl"
      }
    },
    {
      "cell_type": "code",
      "execution_count": 12,
      "metadata": {
        "id": "5FcxitVf5kdQ",
        "colab": {
          "base_uri": "https://localhost:8080/"
        },
        "outputId": "cfdd250a-d139-415f-8042-c9c4ea1d0cd4"
      },
      "outputs": [
        {
          "output_type": "stream",
          "name": "stdout",
          "text": [
            "Input: 1\n",
            "Output: True\n"
          ]
        }
      ],
      "source": [
        "def isHappy(n):\n",
        "    def next_sum(number):\n",
        "        total_sum = 0\n",
        "        while number > 0:\n",
        "            digit = number % 10\n",
        "            total_sum += digit ** 2\n",
        "            number //= 10\n",
        "        return total_sum\n",
        "\n",
        "    checked = set()\n",
        "    while n != 1 and n not in checked:\n",
        "        checked.add(n)\n",
        "        n = next_sum(n)\n",
        "\n",
        "    return n == 1\n",
        "\n",
        "try:\n",
        "    user_input = int(input(\"Input: \"))\n",
        "    if user_input < 1 or user_input >= 2**31:\n",
        "        print(\"The range of input number is between 1 and 2^31-1.\")\n",
        "    else:\n",
        "        is_happy = isHappy(user_input)\n",
        "        print(f\"Output: {is_happy}\")\n",
        "except ValueError:\n",
        "    print(\"Not a valid integer.\")"
      ]
    },
    {
      "cell_type": "markdown",
      "source": [
        "**Testcase 1.**\n",
        "\n",
        "**Input**: 19\n",
        "\n",
        "**Output**: True\n",
        "\n",
        "**Explanation**:\n",
        "\n",
        "$1^2 + 9^2 = 82$\n",
        "\n",
        "$8^2 + 2^2 = 68$\n",
        "\n",
        "$6^2 + 8^2 = 100$\n",
        "\n",
        "$1^2 + 0^2 + 0^2 = 1$"
      ],
      "metadata": {
        "id": "eRrh24Ognrqf"
      }
    },
    {
      "cell_type": "markdown",
      "source": [
        "**Testcase 2.**\n",
        "\n",
        "**Input**: 2\n",
        "\n",
        "**Output**: False"
      ],
      "metadata": {
        "id": "dE7YMY8qoPoj"
      }
    }
  ]
}